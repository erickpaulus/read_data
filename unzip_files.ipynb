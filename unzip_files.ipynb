{
 "cells": [
  {
   "cell_type": "code",
   "execution_count": null,
   "id": "3b56a791",
   "metadata": {},
   "outputs": [],
   "source": [
    "import py7zr\n",
    "import os\n",
    "\n",
    "def extract_7z(archive_path, extract_path):\n",
    "    with py7zr.SevenZipFile(archive_path, 'r') as archive:\n",
    "        archive.extractall(path=extract_path)\n",
    "\n",
    "# Usage example:\n",
    "archive_path = 'data/file.7z'\n",
    "extract_path = 'data/file'  # specify the path where you want to extract the files\n",
    "extract_7z(archive_path, extract_path)\n"
   ]
  },
  {
   "cell_type": "code",
   "execution_count": null,
   "id": "e165acad",
   "metadata": {},
   "outputs": [],
   "source": [
    "import os\n",
    "import gzip\n",
    "import shutil\n",
    "\n",
    "def unzip_file(gzip_file):\n",
    "    # Extract the filename without the extension\n",
    "    output_file = os.path.splitext(gzip_file)[0]\n",
    "\n",
    "    with gzip.open(gzip_file, 'rb') as f_in:\n",
    "        with open(output_file, 'wb') as f_out:\n",
    "            shutil.copyfileobj(f_in, f_out)\n",
    "def list_files_and_subfolders(folder_path):\n",
    "    for root, dirs, files in os.walk(folder_path):\n",
    "#         print(f\"Files in {root}:\")\n",
    "        for file in files:\n",
    "            print(os.path.join(root, file))\n",
    "            unzip_file(os.path.join(root, file))\n",
    "\n",
    "# Usage example:\n",
    "folder_path = 'data/file'  # specify the path to the folder\n",
    "\n",
    "list_files_and_subfolders(folder_path)\n"
   ]
  },
  {
   "cell_type": "code",
   "execution_count": null,
   "id": "3a441761",
   "metadata": {},
   "outputs": [],
   "source": []
  }
 ],
 "metadata": {
  "kernelspec": {
   "display_name": "Python 3 (ipykernel)",
   "language": "python",
   "name": "python3"
  },
  "language_info": {
   "codemirror_mode": {
    "name": "ipython",
    "version": 3
   },
   "file_extension": ".py",
   "mimetype": "text/x-python",
   "name": "python",
   "nbconvert_exporter": "python",
   "pygments_lexer": "ipython3",
   "version": "3.9.12"
  }
 },
 "nbformat": 4,
 "nbformat_minor": 5
}
